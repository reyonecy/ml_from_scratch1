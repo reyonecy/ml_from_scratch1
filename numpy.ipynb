{
  "nbformat": 4,
  "nbformat_minor": 0,
  "metadata": {
    "colab": {
      "provenance": [],
      "toc_visible": true,
      "authorship_tag": "ABX9TyOi6tKlf1iyJWwzTpWr5jl7",
      "include_colab_link": true
    },
    "kernelspec": {
      "name": "python3",
      "display_name": "Python 3"
    },
    "language_info": {
      "name": "python"
    }
  },
  "cells": [
    {
      "cell_type": "markdown",
      "metadata": {
        "id": "view-in-github",
        "colab_type": "text"
      },
      "source": [
        "<a href=\"https://colab.research.google.com/github/reyonecy/ml_from_scratch1/blob/main/numpy.ipynb\" target=\"_parent\"><img src=\"https://colab.research.google.com/assets/colab-badge.svg\" alt=\"Open In Colab\"/></a>"
      ]
    },
    {
      "cell_type": "markdown",
      "source": [
        "## Introduction to NumPy.\n",
        "\n",
        "What will we cover?\n",
        "- creating arrays\n",
        "- Multi dimensional arrays\n",
        "- Randomly generated arrays\n",
        "- Element wis operations\n",
        "  - Comparison operations\n",
        "  - Logical Operations\n",
        "- Summarizing operations"
      ],
      "metadata": {
        "id": "J7ox0zuxgW4X"
      }
    },
    {
      "cell_type": "code",
      "source": [
        "import numpy as np"
      ],
      "metadata": {
        "id": "ekSxwDTDh5nk"
      },
      "execution_count": 2,
      "outputs": []
    },
    {
      "cell_type": "markdown",
      "source": [
        "## Single Dimension arrays"
      ],
      "metadata": {
        "id": "GCnaN3bYoT3A"
      }
    },
    {
      "cell_type": "code",
      "source": [
        "var = np.zeros(5)\n",
        "print(type(var))"
      ],
      "metadata": {
        "colab": {
          "base_uri": "https://localhost:8080/"
        },
        "id": "Hd-IOOOGiv6O",
        "outputId": "9a5c948b-223a-4422-d391-b57582f49cbd"
      },
      "execution_count": 6,
      "outputs": [
        {
          "output_type": "stream",
          "name": "stdout",
          "text": [
            "<class 'numpy.ndarray'>\n"
          ]
        }
      ]
    },
    {
      "cell_type": "code",
      "source": [
        "np.zeros(10)"
      ],
      "metadata": {
        "colab": {
          "base_uri": "https://localhost:8080/"
        },
        "id": "ggDOsuj6i28q",
        "outputId": "94349bee-3b1b-40d6-ea43-94dfddc51a7a"
      },
      "execution_count": 8,
      "outputs": [
        {
          "output_type": "execute_result",
          "data": {
            "text/plain": [
              "array([0., 0., 0., 0., 0., 0., 0., 0., 0., 0.])"
            ]
          },
          "metadata": {},
          "execution_count": 8
        }
      ]
    },
    {
      "cell_type": "code",
      "source": [
        "np.ones(10)"
      ],
      "metadata": {
        "colab": {
          "base_uri": "https://localhost:8080/"
        },
        "id": "_356ERu4jUYx",
        "outputId": "c2be5514-1384-4130-807d-b94eec70606f"
      },
      "execution_count": 10,
      "outputs": [
        {
          "output_type": "execute_result",
          "data": {
            "text/plain": [
              "array([1., 1., 1., 1., 1., 1., 1., 1., 1., 1.])"
            ]
          },
          "metadata": {},
          "execution_count": 10
        }
      ]
    },
    {
      "cell_type": "code",
      "source": [
        "np.full(10,3)"
      ],
      "metadata": {
        "colab": {
          "base_uri": "https://localhost:8080/"
        },
        "id": "y_yIrHbRjrIH",
        "outputId": "f467c912-3b82-4925-ce60-5352271af9a0"
      },
      "execution_count": 11,
      "outputs": [
        {
          "output_type": "execute_result",
          "data": {
            "text/plain": [
              "array([3, 3, 3, 3, 3, 3, 3, 3, 3, 3])"
            ]
          },
          "metadata": {},
          "execution_count": 11
        }
      ]
    },
    {
      "cell_type": "code",
      "source": [
        "new = np.array([1, 2, 3, 4])\n",
        "new[2] = 5\n",
        "print(new)"
      ],
      "metadata": {
        "colab": {
          "base_uri": "https://localhost:8080/"
        },
        "id": "JOplrbT7kaD1",
        "outputId": "87fd2685-a475-4af2-fe14-024634bf3935"
      },
      "execution_count": 14,
      "outputs": [
        {
          "output_type": "stream",
          "name": "stdout",
          "text": [
            "[1 2 5 4]\n"
          ]
        }
      ]
    },
    {
      "cell_type": "code",
      "source": [
        "np.arange(3, 10)"
      ],
      "metadata": {
        "colab": {
          "base_uri": "https://localhost:8080/"
        },
        "id": "OocmWBpildIA",
        "outputId": "89bd1ef4-1593-4e93-ca67-ce05f774519e"
      },
      "execution_count": 15,
      "outputs": [
        {
          "output_type": "execute_result",
          "data": {
            "text/plain": [
              "array([3, 4, 5, 6, 7, 8, 9])"
            ]
          },
          "metadata": {},
          "execution_count": 15
        }
      ]
    },
    {
      "cell_type": "markdown",
      "source": [
        "- Create arrays with evenly spaced numbers within a specified range .**bold text**"
      ],
      "metadata": {
        "id": "R5zl5J0CmotT"
      }
    },
    {
      "cell_type": "code",
      "source": [
        "np.linspace(0, 100, 10)"
      ],
      "metadata": {
        "colab": {
          "base_uri": "https://localhost:8080/"
        },
        "id": "XzshbYwCm06s",
        "outputId": "7fec2fbd-9561-4ec3-af48-1a79218228bc"
      },
      "execution_count": 17,
      "outputs": [
        {
          "output_type": "execute_result",
          "data": {
            "text/plain": [
              "array([  0.        ,  11.11111111,  22.22222222,  33.33333333,\n",
              "        44.44444444,  55.55555556,  66.66666667,  77.77777778,\n",
              "        88.88888889, 100.        ])"
            ]
          },
          "metadata": {},
          "execution_count": 17
        }
      ]
    },
    {
      "cell_type": "markdown",
      "source": [
        "## Multidimension Arrays"
      ],
      "metadata": {
        "id": "FvSewgTMoBGu"
      }
    },
    {
      "cell_type": "code",
      "source": [
        "np.zeros((5,2))"
      ],
      "metadata": {
        "colab": {
          "base_uri": "https://localhost:8080/"
        },
        "id": "YWwc4ugLoH35",
        "outputId": "67a788e7-d5f5-43de-aded-74d4a56c2aac"
      },
      "execution_count": 18,
      "outputs": [
        {
          "output_type": "execute_result",
          "data": {
            "text/plain": [
              "array([[0., 0.],\n",
              "       [0., 0.],\n",
              "       [0., 0.],\n",
              "       [0., 0.],\n",
              "       [0., 0.]])"
            ]
          },
          "metadata": {},
          "execution_count": 18
        }
      ]
    },
    {
      "cell_type": "markdown",
      "source": [
        "- create an MD unit Array of size (5, 2)\n",
        "- Generate a random array of size (3, 5) with elements of your choice\n",
        "- update the element of an array with index"
      ],
      "metadata": {
        "id": "8Vcb-p7EpFv0"
      }
    },
    {
      "cell_type": "code",
      "source": [
        "\n",
        "\n",
        "    # create an MD unit Array of size (5, 2)\n",
        "    # Generate a random array of size (3, 5) with elements of your choice\n",
        "   # update the element of an array with index\n",
        "\n"
      ],
      "metadata": {
        "id": "M8F__eESpHzj"
      },
      "execution_count": 21,
      "outputs": []
    },
    {
      "cell_type": "code",
      "source": [
        "multi = np.array([[1, 2, 3],[4, 5 , 6],[7, 8, 9]])\n",
        "print(type(multi))"
      ],
      "metadata": {
        "colab": {
          "base_uri": "https://localhost:8080/"
        },
        "id": "vnGN8UW3pjag",
        "outputId": "8ab47a7b-5d4c-4dbe-ac1d-dc3bcbf44f7c"
      },
      "execution_count": 26,
      "outputs": [
        {
          "output_type": "stream",
          "name": "stdout",
          "text": [
            "<class 'numpy.ndarray'>\n"
          ]
        }
      ]
    },
    {
      "cell_type": "code",
      "source": [
        "multi[2] =[2, 2, 2]\n",
        "multi"
      ],
      "metadata": {
        "colab": {
          "base_uri": "https://localhost:8080/"
        },
        "id": "I-eRjc50qy_8",
        "outputId": "207268b4-ef0e-4658-ec48-8c45f10167ac"
      },
      "execution_count": 27,
      "outputs": [
        {
          "output_type": "execute_result",
          "data": {
            "text/plain": [
              "array([[1, 2, 3],\n",
              "       [4, 5, 6],\n",
              "       [2, 2, 2]])"
            ]
          },
          "metadata": {},
          "execution_count": 27
        }
      ]
    },
    {
      "cell_type": "code",
      "source": [
        "multi[:, 2] = [3, 3, 3]"
      ],
      "metadata": {
        "id": "7E3i_KntrG2J"
      },
      "execution_count": 28,
      "outputs": []
    },
    {
      "cell_type": "markdown",
      "source": [
        "## Randomly generated arrays\n",
        "\n",
        "- Numpy can create arrays filled with random numbers.\n",
        "- To ensure the reproducibility, you can set a seed using np.random.seed()\n",
        "- Everytime you can run the code with np.random.seed(2), it will generate the exact same random numbers.\n",
        "If you remove or change the seed values, the sequence of random numbers will be changed *italicized text*"
      ],
      "metadata": {
        "id": "avGV0l2OsSnT"
      }
    },
    {
      "cell_type": "code",
      "source": [
        "np.random.seed(2)\n",
        "np.random.rand(5)"
      ],
      "metadata": {
        "colab": {
          "base_uri": "https://localhost:8080/"
        },
        "id": "2x_jlOpPsTdc",
        "outputId": "1341bc74-f681-44d7-919f-ff816abeba03"
      },
      "execution_count": 37,
      "outputs": [
        {
          "output_type": "execute_result",
          "data": {
            "text/plain": [
              "array([0.4359949 , 0.02592623, 0.54966248, 0.43532239, 0.4203678 ])"
            ]
          },
          "metadata": {},
          "execution_count": 37
        }
      ]
    },
    {
      "cell_type": "code",
      "source": [
        "np.random.seed(5)\n",
        "np.random.rand(5, 2)"
      ],
      "metadata": {
        "colab": {
          "base_uri": "https://localhost:8080/"
        },
        "id": "3V9C8Oj1tfVF",
        "outputId": "8fc2fc4d-7e77-42cb-f79c-c7f5e7e695a1"
      },
      "execution_count": 46,
      "outputs": [
        {
          "output_type": "execute_result",
          "data": {
            "text/plain": [
              "array([[0.22199317, 0.87073231],\n",
              "       [0.20671916, 0.91861091],\n",
              "       [0.48841119, 0.61174386],\n",
              "       [0.76590786, 0.51841799],\n",
              "       [0.2968005 , 0.18772123]])"
            ]
          },
          "metadata": {},
          "execution_count": 46
        }
      ]
    },
    {
      "cell_type": "code",
      "source": [
        "np.random.randn(5, 2)  #means value 0 and  standard deviation 1"
      ],
      "metadata": {
        "colab": {
          "base_uri": "https://localhost:8080/"
        },
        "id": "Ok_34_jZwDLn",
        "outputId": "34b73dc9-295a-4ccc-b31e-12e8ca9928cd"
      },
      "execution_count": 50,
      "outputs": [
        {
          "output_type": "execute_result",
          "data": {
            "text/plain": [
              "array([[-0.08687561,  1.56153229],\n",
              "       [-0.30585302, -0.47773142],\n",
              "       [ 0.10073819,  0.35543847],\n",
              "       [ 0.26961241,  1.29196338],\n",
              "       [ 1.13934298,  0.4944404 ]])"
            ]
          },
          "metadata": {},
          "execution_count": 50
        }
      ]
    },
    {
      "cell_type": "code",
      "source": [
        "np.random.seed(42)\n",
        "np.random.randint(low =0, high=100, size=(5,2))"
      ],
      "metadata": {
        "colab": {
          "base_uri": "https://localhost:8080/"
        },
        "id": "h5azVvRJxjPV",
        "outputId": "b50bb0b3-f9f6-45f2-e1c3-2536a7dde3c2"
      },
      "execution_count": 52,
      "outputs": [
        {
          "output_type": "execute_result",
          "data": {
            "text/plain": [
              "array([[51, 92],\n",
              "       [14, 71],\n",
              "       [60, 20],\n",
              "       [82, 86],\n",
              "       [74, 74]])"
            ]
          },
          "metadata": {},
          "execution_count": 52
        }
      ]
    },
    {
      "cell_type": "markdown",
      "source": [
        "## Element wise operations"
      ],
      "metadata": {
        "id": "Hybc8oltyiKN"
      }
    },
    {
      "cell_type": "code",
      "source": [
        "a = np.arange(5)\n",
        "a"
      ],
      "metadata": {
        "colab": {
          "base_uri": "https://localhost:8080/"
        },
        "id": "d63-X12FynqC",
        "outputId": "b1d4e1dd-6dba-4a0e-9941-f12fbddbab93"
      },
      "execution_count": 53,
      "outputs": [
        {
          "output_type": "execute_result",
          "data": {
            "text/plain": [
              "array([0, 1, 2, 3, 4])"
            ]
          },
          "metadata": {},
          "execution_count": 53
        }
      ]
    },
    {
      "cell_type": "code",
      "source": [
        "b = (10 + (a*2))\n",
        "b"
      ],
      "metadata": {
        "colab": {
          "base_uri": "https://localhost:8080/"
        },
        "id": "pgrSAIQ5ysMp",
        "outputId": "dc797033-e678-401d-aa4b-d331db40fca3"
      },
      "execution_count": 54,
      "outputs": [
        {
          "output_type": "execute_result",
          "data": {
            "text/plain": [
              "array([10, 12, 14, 16, 18])"
            ]
          },
          "metadata": {},
          "execution_count": 54
        }
      ]
    },
    {
      "cell_type": "code",
      "source": [
        "# Comparison operations\n",
        "# You can perform element -wise comparison and create boolean arrays\n",
        "a"
      ],
      "metadata": {
        "colab": {
          "base_uri": "https://localhost:8080/"
        },
        "id": "J6ziJ1akyy0u",
        "outputId": "0d4d7b7d-2430-4fdb-e508-088a1024e352"
      },
      "execution_count": 55,
      "outputs": [
        {
          "output_type": "execute_result",
          "data": {
            "text/plain": [
              "array([0, 1, 2, 3, 4])"
            ]
          },
          "metadata": {},
          "execution_count": 55
        }
      ]
    },
    {
      "cell_type": "code",
      "source": [
        "a>= 2"
      ],
      "metadata": {
        "colab": {
          "base_uri": "https://localhost:8080/"
        },
        "id": "-POwCIpQzEFd",
        "outputId": "fe434ca6-30be-46c5-ee07-39a4a842b035"
      },
      "execution_count": 56,
      "outputs": [
        {
          "output_type": "execute_result",
          "data": {
            "text/plain": [
              "array([False, False,  True,  True,  True])"
            ]
          },
          "metadata": {},
          "execution_count": 56
        }
      ]
    },
    {
      "cell_type": "code",
      "source": [
        "a > b"
      ],
      "metadata": {
        "colab": {
          "base_uri": "https://localhost:8080/"
        },
        "id": "7DAHc9AjzJTc",
        "outputId": "6ae868d6-8a21-463e-a446-f7b9e5bca4c4"
      },
      "execution_count": 57,
      "outputs": [
        {
          "output_type": "execute_result",
          "data": {
            "text/plain": [
              "array([False, False, False, False, False])"
            ]
          },
          "metadata": {},
          "execution_count": 57
        }
      ]
    },
    {
      "cell_type": "code",
      "source": [
        "# Summarizing\n",
        "# Numpy provides functions for summarizing array of date\n",
        "a"
      ],
      "metadata": {
        "colab": {
          "base_uri": "https://localhost:8080/"
        },
        "id": "Po3N2FhdzVAs",
        "outputId": "e99fee36-2e99-4d43-f4d9-6ac052b4aafd"
      },
      "execution_count": 58,
      "outputs": [
        {
          "output_type": "execute_result",
          "data": {
            "text/plain": [
              "array([0, 1, 2, 3, 4])"
            ]
          },
          "metadata": {},
          "execution_count": 58
        }
      ]
    },
    {
      "cell_type": "code",
      "source": [
        "# standard deviation\n",
        "a.std()"
      ],
      "metadata": {
        "colab": {
          "base_uri": "https://localhost:8080/"
        },
        "id": "MMv2G9_Kzh-2",
        "outputId": "1af49c3c-71cb-4a39-fd17-d98fa3a74f3d"
      },
      "execution_count": 59,
      "outputs": [
        {
          "output_type": "execute_result",
          "data": {
            "text/plain": [
              "1.4142135623730951"
            ]
          },
          "metadata": {},
          "execution_count": 59
        }
      ]
    },
    {
      "cell_type": "code",
      "source": [
        "# Minimun value of an array\n",
        "a.max()"
      ],
      "metadata": {
        "colab": {
          "base_uri": "https://localhost:8080/"
        },
        "id": "JXp_2isgzmBq",
        "outputId": "84a56e4f-8110-40c2-93f9-9f13c8b96559"
      },
      "execution_count": 60,
      "outputs": [
        {
          "output_type": "execute_result",
          "data": {
            "text/plain": [
              "4"
            ]
          },
          "metadata": {},
          "execution_count": 60
        }
      ]
    },
    {
      "cell_type": "code",
      "source": [
        "# Sum of the elements of an array\n",
        "a.sum(\n",
        "\n",
        ")"
      ],
      "metadata": {
        "colab": {
          "base_uri": "https://localhost:8080/"
        },
        "id": "233J-KoOzxSf",
        "outputId": "747bcbb4-736a-459a-fd02-9de3015e44d2"
      },
      "execution_count": 61,
      "outputs": [
        {
          "output_type": "execute_result",
          "data": {
            "text/plain": [
              "10"
            ]
          },
          "metadata": {},
          "execution_count": 61
        }
      ]
    },
    {
      "cell_type": "code",
      "source": [
        "# Mean value of an array\n",
        "a.mean()"
      ],
      "metadata": {
        "colab": {
          "base_uri": "https://localhost:8080/"
        },
        "id": "u2gyAJiXz2p6",
        "outputId": "fd379aa8-49b1-46b3-aeff-e20a00ef4aff"
      },
      "execution_count": 63,
      "outputs": [
        {
          "output_type": "execute_result",
          "data": {
            "text/plain": [
              "2.0"
            ]
          },
          "metadata": {},
          "execution_count": 63
        }
      ]
    },
    {
      "cell_type": "code",
      "source": [],
      "metadata": {
        "id": "LLyFqsPfz6fa"
      },
      "execution_count": null,
      "outputs": []
    }
  ]
}